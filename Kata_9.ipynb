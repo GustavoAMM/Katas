{
 "cells": [
  {
   "cell_type": "markdown",
   "metadata": {},
   "source": [
    "# Ejercicio: Uso de funciones en Python"
   ]
  },
  {
   "cell_type": "code",
   "execution_count": 14,
   "metadata": {},
   "outputs": [
    {
     "name": "stdout",
     "output_type": "stream",
     "text": [
      "Promedio de los tanques: 78.333%\n",
      "Reporte:\n",
      "    Total: 78.0%\n",
      "    Tanque 1: 88%\n",
      "    Tanque 2: 76%\n",
      "    Tanque 3: 70% \n",
      "    \n"
     ]
    }
   ],
   "source": [
    "# Función para leer 3 tanques de combustible y muestre el total\n",
    "def leerTanque (tan1,tan2, tan3):\n",
    "    total=(tan1+tan2+tan3)/3\n",
    "    return(\"Promedio de los tanques: \"\"{0:.3f}\".format(total)+\"%\")\n",
    "\n",
    "# Llamamos a la función que genera el reporte print(funcion(tanque1, tanque2, tanque3))\n",
    "print(leerTanque(80, 70, 85))\n",
    "\n",
    "# Función promedio\n",
    "def promedio(values):\n",
    "    total = sum(values)\n",
    "    cantidad = len(values)\n",
    "    return total / cantidad\n",
    "\n",
    "promedio([80, 85, 81]) \n",
    "\n",
    "def reporte (tan1, tan2, tan3):\n",
    "    return f\"\"\"Reporte:\n",
    "    Total: {promedio([tan1, tan2, tan3])}%\n",
    "    Tanque 1: {tan1}%\n",
    "    Tanque 2: {tan2}%\n",
    "    Tanque 3: {tan3}% \n",
    "    \"\"\"\n",
    "\n",
    "print(reporte (88, 76, 70))\n"
   ]
  },
  {
   "cell_type": "markdown",
   "metadata": {},
   "source": [
    "# Ejercicio 2: Trabajo con argumentos de palabra clave"
   ]
  },
  {
   "cell_type": "code",
   "execution_count": 21,
   "metadata": {},
   "outputs": [
    {
     "name": "stdout",
     "output_type": "stream",
     "text": [
      "\n",
      "    Destino: Luna\n",
      "    Tiempo total: 74 minutes\n",
      "    Combustible restante: 500000\n",
      "    main tank --> 300000 galones left\n",
      "external tank --> 200000 galones left\n",
      "\n"
     ]
    }
   ],
   "source": [
    "# Función con un informe preciso de la misión. Considera hora de prelanzamiento, tiempo de vuelo, destino, tanque externo y tanque interno\n",
    "def informe(lanzamientoHora,tiempoVuelo,destino,tanExt,tanInt):\n",
    "    return f\"\"\"\n",
    "    Destino: {destino}\n",
    "    Tiempo total: {lanzamientoHora + tiempoVuelo} minutos\n",
    "    Combustible restante: {tanExt + tanInt} galones\n",
    "    \"\"\"\n",
    "\n",
    "# Escribe tu nueva función de reporte considerando lo anterior\n",
    "def Mision(destino, *minutes, **fuel_reservoirs):\n",
    "    return f\"\"\"\n",
    "    Destino {destino}\n",
    "    Tiempo total: {sum(minutes)} minutes\n",
    "    Combustible restante: {sum(fuel_reservoirs.values())}\n",
    "    \"\"\"\n",
    "\n",
    "# Escribe tu nueva función\n",
    "\n",
    "def ReporteMision(destination, *minutes, **fuel_reservoirs):\n",
    "    reporte = f\"\"\"\n",
    "    Destino: {destination}\n",
    "    Tiempo total: {sum(minutes)} minutes\n",
    "    Combustible restante: {sum(fuel_reservoirs.values())}\n",
    "    \"\"\"\n",
    "    for tanque, galones in fuel_reservoirs.items():\n",
    "        reporte += f\"{tanque} tank --> {galones} galones left\\n\"\n",
    "    return reporte\n",
    "\n",
    "print(ReporteMision(\"Luna\", 8, 11, 55, main=300000, external=200000))"
   ]
  }
 ],
 "metadata": {
  "interpreter": {
   "hash": "25280741b99e6b4be5111f50d487cf076ec7e2eaf25c0878a79433624019633e"
  },
  "kernelspec": {
   "display_name": "Python 3.10.2 64-bit",
   "language": "python",
   "name": "python3"
  },
  "language_info": {
   "codemirror_mode": {
    "name": "ipython",
    "version": 3
   },
   "file_extension": ".py",
   "mimetype": "text/x-python",
   "name": "python",
   "nbconvert_exporter": "python",
   "pygments_lexer": "ipython3",
   "version": "3.10.2"
  },
  "orig_nbformat": 4
 },
 "nbformat": 4,
 "nbformat_minor": 2
}
