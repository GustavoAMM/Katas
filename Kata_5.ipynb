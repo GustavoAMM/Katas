{
 "cells": [
  {
   "cell_type": "markdown",
   "metadata": {},
   "source": [
    "# Ejercicio1 - Utilizar operadores aritméticos"
   ]
  },
  {
   "cell_type": "code",
   "execution_count": 3,
   "metadata": {},
   "outputs": [
    {
     "name": "stdout",
     "output_type": "stream",
     "text": [
      "La distancia en Kilometros es:  628949330\n",
      "La distancia en Millas es:  390577533.93\n"
     ]
    }
   ],
   "source": [
    "tierra = 149597870\n",
    "jupiter = 778547200\n",
    "distanciaK = jupiter - tierra\n",
    "print(\"La distancia en Kilometros es: \",distanciaK)\n",
    "distanciaM= distanciaK * 0.621\n",
    "print(\"La distancia en Millas es: \",distanciaM)\n",
    "\n"
   ]
  },
  {
   "cell_type": "markdown",
   "metadata": {},
   "source": [
    "# Ejercicio 2: convierte cadenas en números y usa valores absolutos"
   ]
  },
  {
   "cell_type": "code",
   "execution_count": 5,
   "metadata": {},
   "outputs": [
    {
     "name": "stdout",
     "output_type": "stream",
     "text": [
      "La distancia en kilometros es de:  4437200000\n",
      "La distancia en Millas es de:  2755501200.0\n"
     ]
    }
   ],
   "source": [
    "planet1 = input(\"Ingresar la distancia del primer planeta: \")\n",
    "planet2 = input(\"Ingresar la distancia del segundo planeta: \")\n",
    "\n",
    "planet1 = int(planet1)\n",
    "planet2= int(planet2)\n",
    "\n",
    "distanciaKm =  planet2 - planet1\n",
    "print(\"La distancia en kilometros es de: \", distanciaKm)\n",
    "distanciaMi = distanciaKm * 0.621\n",
    "print(\"La distancia en Millas es de: \", distanciaMi)\n",
    "\n",
    "\n"
   ]
  }
 ],
 "metadata": {
  "interpreter": {
   "hash": "25280741b99e6b4be5111f50d487cf076ec7e2eaf25c0878a79433624019633e"
  },
  "kernelspec": {
   "display_name": "Python 3.10.2 64-bit",
   "language": "python",
   "name": "python3"
  },
  "language_info": {
   "codemirror_mode": {
    "name": "ipython",
    "version": 3
   },
   "file_extension": ".py",
   "mimetype": "text/x-python",
   "name": "python",
   "nbconvert_exporter": "python",
   "pygments_lexer": "ipython3",
   "version": "3.10.2"
  },
  "orig_nbformat": 4
 },
 "nbformat": 4,
 "nbformat_minor": 2
}
