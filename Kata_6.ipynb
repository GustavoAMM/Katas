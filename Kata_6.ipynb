{
 "cells": [
  {
   "cell_type": "markdown",
   "metadata": {},
   "source": [
    "# Ejercicio1: Crear y usar listas de Python"
   ]
  },
  {
   "cell_type": "code",
   "execution_count": 1,
   "metadata": {},
   "outputs": [
    {
     "name": "stdout",
     "output_type": "stream",
     "text": [
      "Los planetas son:  ['Mercurio', 'Venus', 'Tierra', 'Marte', 'Jupiter', 'Satruno', 'Urano', 'Neptuno']\n",
      "Los planetas son:  ['Mercurio', 'Venus', 'Tierra', 'Marte', 'Jupiter', 'Satruno', 'Urano', 'Neptuno', 'Pluton']\n",
      "El último planeta es:  Pluton\n"
     ]
    }
   ],
   "source": [
    "planetas = ['Mercurio','Venus', 'Tierra','Marte','Jupiter','Satruno','Urano','Neptuno']\n",
    "print(\"Los planetas son: \",planetas)\n",
    "planetas.append('Pluton')\n",
    "print(\"Los planetas son: \",planetas)\n",
    "print('El último planeta es: ',planetas[-1])"
   ]
  },
  {
   "cell_type": "markdown",
   "metadata": {},
   "source": [
    "# Ejercicio 2: Trabajando con datos de una lista"
   ]
  },
  {
   "cell_type": "code",
   "execution_count": 14,
   "metadata": {},
   "outputs": [
    {
     "name": "stdout",
     "output_type": "stream",
     "text": [
      "Los planetas más cercanos al sol:  ['Mercury', 'Venus', 'Earth']\n",
      "Los planetas más lejanos al sol ['Jupiter', 'Saturn', 'Neptune']\n"
     ]
    }
   ],
   "source": [
    "# Lista de planetas\n",
    "planets = ['Mercury', 'Venus', 'Earth', 'Mars', 'Jupiter', 'Saturn', 'Neptune']\n",
    "newPlanet = input(\"Ingresar el nuevo planeta(Primera letra mayuscula,Ejemplo:(Marte)): \")\n",
    "buscar = planets.index(newPlanet)\n",
    "print(\"Los planetas más cercanos al sol: \",planets[:buscar])  \n",
    "print(\"Los planetas más lejanos al sol\",planets[buscar+1:]) "
   ]
  }
 ],
 "metadata": {
  "interpreter": {
   "hash": "25280741b99e6b4be5111f50d487cf076ec7e2eaf25c0878a79433624019633e"
  },
  "kernelspec": {
   "display_name": "Python 3.10.2 64-bit",
   "language": "python",
   "name": "python3"
  },
  "language_info": {
   "codemirror_mode": {
    "name": "ipython",
    "version": 3
   },
   "file_extension": ".py",
   "mimetype": "text/x-python",
   "name": "python",
   "nbconvert_exporter": "python",
   "pygments_lexer": "ipython3",
   "version": "3.10.2"
  },
  "orig_nbformat": 4
 },
 "nbformat": 4,
 "nbformat_minor": 2
}
