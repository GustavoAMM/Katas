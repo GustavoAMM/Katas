{
 "cells": [
  {
   "cell_type": "markdown",
   "metadata": {},
   "source": [
    "# Problema No. 1"
   ]
  },
  {
   "cell_type": "code",
   "execution_count": 1,
   "metadata": {},
   "outputs": [
    {
     "name": "stdout",
     "output_type": "stream",
     "text": [
      "!DANGER¡ Asteroide se acerca\n"
     ]
    }
   ],
   "source": [
    "velocidad = 49\n",
    "if velocidad > 25:\n",
    "    print('!DANGER¡ Asteroide se acerca')\n",
    "else:\n",
    "    print('Todo en orden ')"
   ]
  },
  {
   "cell_type": "markdown",
   "metadata": {},
   "source": [
    "# Problema No. 2"
   ]
  },
  {
   "cell_type": "code",
   "execution_count": 3,
   "metadata": {},
   "outputs": [
    {
     "name": "stdout",
     "output_type": "stream",
     "text": [
      "Todo en orden\n"
     ]
    }
   ],
   "source": [
    "tamaño = 19\n",
    "if tamaño > 20:\n",
    "    print('Se observa un rayo de luz')\n",
    "elif tamaño == 20:\n",
    "    print('Se observa un rayo de luz')\n",
    "else:\n",
    "    print('Todo en orden')"
   ]
  },
  {
   "cell_type": "markdown",
   "metadata": {},
   "source": [
    "# Problema No. 3"
   ]
  },
  {
   "cell_type": "code",
   "execution_count": 8,
   "metadata": {},
   "outputs": [
    {
     "name": "stdout",
     "output_type": "stream",
     "text": [
      "Se observa un rayo de luz\n"
     ]
    }
   ],
   "source": [
    "velocidad = 25\n",
    "tamaño = 40\n",
    "if velocidad > 25 and tamaño > 19:\n",
    "    print('!DANGER¡ Asteroide se acerca')\n",
    "elif velocidad > 19:\n",
    "    print('Se observa un rayo de luz')\n",
    "elif velocidad <20:\n",
    "    print(\"Todo en orden\")\n",
    "elif tamaño > 25:\n",
    "    print('!DANGER¡ Asteroide se acerca')\n",
    "else:\n",
    "    print('Todo en orden')"
   ]
  }
 ],
 "metadata": {
  "interpreter": {
   "hash": "25280741b99e6b4be5111f50d487cf076ec7e2eaf25c0878a79433624019633e"
  },
  "kernelspec": {
   "display_name": "Python 3.10.2 64-bit",
   "language": "python",
   "name": "python3"
  },
  "language_info": {
   "codemirror_mode": {
    "name": "ipython",
    "version": 3
   },
   "file_extension": ".py",
   "mimetype": "text/x-python",
   "name": "python",
   "nbconvert_exporter": "python",
   "pygments_lexer": "ipython3",
   "version": "3.10.2"
  },
  "orig_nbformat": 4
 },
 "nbformat": 4,
 "nbformat_minor": 2
}
